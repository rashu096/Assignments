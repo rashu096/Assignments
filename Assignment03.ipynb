{
 "cells": [
  {
   "cell_type": "code",
   "execution_count": 3,
   "id": "69d18258-0f22-4943-ad25-8d95419808cb",
   "metadata": {},
   "outputs": [
    {
     "name": "stdin",
     "output_type": "stream",
     "text": [
      "Enter a string:  asdsfertrgrbvcvbcvmnbvcnrgrtueroitrepoireip\n"
     ]
    },
    {
     "name": "stdout",
     "output_type": "stream",
     "text": [
      "Number of vowels in the string: 11\n"
     ]
    }
   ],
   "source": [
    "\n",
    "def count_vowels(s):\n",
    "    vowels = \"aeiouAEIOU\"  \n",
    "    count = 0  \n",
    "\n",
    "    \n",
    "    for char in s:\n",
    "        if char in vowels:\n",
    "            count += 1  \n",
    "\n",
    "    return count\n",
    "\n",
    "\n",
    "user_input = input(\"Enter a string: \")\n",
    "\n",
    "\n",
    "vowel_count = count_vowels(user_input)\n",
    "print(f\"Number of vowels in the string: {vowel_count}\")\n"
   ]
  },
  {
   "cell_type": "code",
   "execution_count": 7,
   "id": "a41b5024-66f8-466a-a3ce-099fbd49bba8",
   "metadata": {},
   "outputs": [
    {
     "name": "stdin",
     "output_type": "stream",
     "text": [
      "Enter a string:  215 hghg hhKLKLKJ\n"
     ]
    },
    {
     "name": "stdout",
     "output_type": "stream",
     "text": [
      "Number of uppercase letters: 6\n",
      "Number of lowercase letters: 6\n",
      "Number of digits: 3\n",
      "Number of whitespace characters: 2\n"
     ]
    }
   ],
   "source": [
    "\n",
    "def count_characters(input_string):\n",
    "    uppercase_count = 0\n",
    "    lowercase_count = 0\n",
    "    digit_count = 0\n",
    "    whitespace_count = 0\n",
    "\n",
    "    \n",
    "    for char in input_string:\n",
    "        if char.isupper():\n",
    "            uppercase_count += 1\n",
    "        elif char.islower():\n",
    "            lowercase_count += 1\n",
    "        elif char.isdigit():\n",
    "            digit_count += 1\n",
    "        elif char.isspace():\n",
    "            whitespace_count += 1\n",
    "\n",
    "    \n",
    "    print(\"Number of uppercase letters:\", uppercase_count)\n",
    "    print(\"Number of lowercase letters:\", lowercase_count)\n",
    "    print(\"Number of digits:\", digit_count)\n",
    "    print(\"Number of whitespace characters:\", whitespace_count)\n",
    "\n",
    "\n",
    "input_string = input(\"Enter a string: \")\n",
    "\n",
    "\n",
    "count_characters(input_string)\n"
   ]
  },
  {
   "cell_type": "code",
   "execution_count": 11,
   "id": "48c0df25-a4bc-4be3-94a8-24971abc2e6a",
   "metadata": {},
   "outputs": [
    {
     "name": "stdin",
     "output_type": "stream",
     "text": [
      "Enter a string:  write\n"
     ]
    },
    {
     "name": "stdout",
     "output_type": "stream",
     "text": [
      "New string with first and last characters swapped: eritw\n"
     ]
    }
   ],
   "source": [
    "\n",
    "def swap_first_last(input_string):\n",
    "    \n",
    "    if len(input_string) > 1:\n",
    "        \n",
    "        swapped_string = input_string[-1] + input_string[1:-1] + input_string[0]\n",
    "    else:\n",
    "        \n",
    "        swapped_string = input_string\n",
    "    \n",
    "    return swapped_string\n",
    "\n",
    "\n",
    "input_string = input(\"Enter a string: \")\n",
    "\n",
    "\n",
    "result = swap_first_last(input_string)\n",
    "print(\"New string with first and last characters swapped:\", result)\n"
   ]
  },
  {
   "cell_type": "code",
   "execution_count": 15,
   "id": "21da1c42-e242-45bd-8d2c-e3cc61d00738",
   "metadata": {},
   "outputs": [
    {
     "name": "stdin",
     "output_type": "stream",
     "text": [
      "Enter a string:  my\n"
     ]
    },
    {
     "name": "stdout",
     "output_type": "stream",
     "text": [
      "Reversed string: ym\n"
     ]
    }
   ],
   "source": [
    "\n",
    "def reverse_string(input_string):\n",
    "    \n",
    "    reversed_string = input_string[::-1]\n",
    "    return reversed_string\n",
    "\n",
    "\n",
    "input_string = input(\"Enter a string: \")\n",
    "\n",
    "\n",
    "result = reverse_string(input_string)\n",
    "print(\"Reversed string:\", result)\n"
   ]
  },
  {
   "cell_type": "code",
   "execution_count": 17,
   "id": "297f6c86-c7fb-4615-91c6-496644f3f597",
   "metadata": {},
   "outputs": [
    {
     "name": "stdin",
     "output_type": "stream",
     "text": [
      "Enter a string:  there\n"
     ]
    },
    {
     "name": "stdout",
     "output_type": "stream",
     "text": [
      "String after shifting one position to the left: heret\n"
     ]
    }
   ],
   "source": [
    "\n",
    "def shift_left(input_string):\n",
    "    \n",
    "    if len(input_string) > 0:\n",
    "        shifted_string = input_string[1:] + input_string[0]\n",
    "    else:\n",
    "        shifted_string = input_string  \n",
    "    \n",
    "    return shifted_string\n",
    "\n",
    "\n",
    "input_string = input(\"Enter a string: \")\n",
    "\n",
    "\n",
    "result = shift_left(input_string)\n",
    "print(\"String after shifting one position to the left:\", result)\n"
   ]
  },
  {
   "cell_type": "code",
   "execution_count": 19,
   "id": "72f00ad9-df0f-4e25-bed2-511b4b61f882",
   "metadata": {},
   "outputs": [
    {
     "name": "stdin",
     "output_type": "stream",
     "text": [
      "Enter your full name (first, middle, last):  rashid jabbar shahani\n"
     ]
    },
    {
     "name": "stdout",
     "output_type": "stream",
     "text": [
      "Your initials are: RJS\n"
     ]
    }
   ],
   "source": [
    "\n",
    "def get_initials(full_name):\n",
    "    \n",
    "    name_parts = full_name.split()\n",
    "    \n",
    "    initials = ''.join([part[0].upper() for part in name_parts])\n",
    "    return initials\n",
    "\n",
    "\n",
    "full_name = input(\"Enter your full name (first, middle, last): \")\n",
    "\n",
    "\n",
    "initials = get_initials(full_name)\n",
    "print(\"Your initials are:\", initials)\n"
   ]
  },
  {
   "cell_type": "code",
   "execution_count": 25,
   "id": "925056a8-a2c0-4a64-bdaa-0cab43abc599",
   "metadata": {},
   "outputs": [
    {
     "name": "stdin",
     "output_type": "stream",
     "text": [
      "Enter a string:  sir\n"
     ]
    },
    {
     "name": "stdout",
     "output_type": "stream",
     "text": [
      "'sir' is not a palindrome.\n"
     ]
    }
   ],
   "source": [
    "\n",
    "def is_palindrome(input_string):\n",
    "    \n",
    "    cleaned_string = input_string.replace(\" \", \"\").lower()\n",
    "    \n",
    "    \n",
    "    if cleaned_string == cleaned_string[::-1]:\n",
    "        return True\n",
    "    else:\n",
    "        return False\n",
    "\n",
    "\n",
    "input_string = input(\"Enter a string: \")\n",
    "\n",
    "\n",
    "if is_palindrome(input_string):\n",
    "    print(f\"'{input_string}' is a palindrome.\")\n",
    "else:\n",
    "    print(f\"'{input_string}' is not a palindrome.\")\n"
   ]
  },
  {
   "cell_type": "code",
   "execution_count": 37,
   "id": "a996334b-8756-4a18-a388-3bcea6693c41",
   "metadata": {},
   "outputs": [
    {
     "name": "stdout",
     "output_type": "stream",
     "text": [
      "SHIFT\n",
      "HIFTS\n",
      "IFTSH\n",
      "FTSHI\n",
      "TSHIF\n"
     ]
    }
   ],
   "source": [
    "\n",
    "def shift_pattern(word):\n",
    "    for i in range(len(word )):\n",
    "        \n",
    "        print(word[i:] + word[:i])\n",
    "\n",
    "word = \"SHIFT\"\n",
    "\n",
    "\n",
    "shift_pattern(word)\n"
   ]
  },
  {
   "cell_type": "code",
   "execution_count": 43,
   "id": "c8cf0bfb-c35c-46e4-a2ae-8687dce6254f",
   "metadata": {},
   "outputs": [
    {
     "name": "stdin",
     "output_type": "stream",
     "text": [
      "Enter your password:  rashu101\n"
     ]
    },
    {
     "name": "stdout",
     "output_type": "stream",
     "text": [
      "Password must contain at least one uppercase letter.\n"
     ]
    }
   ],
   "source": [
    "import re\n",
    "\n",
    "\n",
    "def validate_password(password):\n",
    "    \n",
    "    if len(password) < 8:\n",
    "        return \"Password must be at least 8 characters long.\"\n",
    "\n",
    "    \n",
    "    if not any(char.isupper() for char in password):\n",
    "        return \"Password must contain at least one uppercase letter.\"\n",
    "\n",
    "    \n",
    "    if not any(char.islower() for char in password):\n",
    "        return \"Password must contain at least one lowercase letter.\"\n",
    "\n",
    "    \n",
    "    if not any(char.isdigit() for char in password):\n",
    "        return \"Password must contain at least one numeric digit.\"\n",
    "\n",
    "    \n",
    "    return \"Password is valid.\"\n",
    "\n",
    "\n",
    "password = input(\"Enter your password: \")\n",
    "\n",
    "result = validate_password(password)\n",
    "print(result)\n"
   ]
  },
  {
   "cell_type": "code",
   "execution_count": null,
   "id": "4dd44369-2d8c-4877-aea7-b9fd1b24ce85",
   "metadata": {},
   "outputs": [],
   "source": []
  }
 ],
 "metadata": {
  "kernelspec": {
   "display_name": "Python [conda env:base] *",
   "language": "python",
   "name": "conda-base-py"
  },
  "language_info": {
   "codemirror_mode": {
    "name": "ipython",
    "version": 3
   },
   "file_extension": ".py",
   "mimetype": "text/x-python",
   "name": "python",
   "nbconvert_exporter": "python",
   "pygments_lexer": "ipython3",
   "version": "3.12.7"
  }
 },
 "nbformat": 4,
 "nbformat_minor": 5
}
